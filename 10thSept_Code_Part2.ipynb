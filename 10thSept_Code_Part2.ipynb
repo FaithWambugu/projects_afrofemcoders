{
 "cells": [
  {
   "cell_type": "markdown",
   "id": "dbe10a70-d9cf-40ef-a591-72a84c953ee3",
   "metadata": {
    "jp-MarkdownHeadingCollapsed": true,
    "tags": []
   },
   "source": [
    "# Imports"
   ]
  },
  {
   "cell_type": "code",
   "execution_count": 2,
   "id": "a0c9cd12-37d6-40b8-a74e-fe39a43a8170",
   "metadata": {},
   "outputs": [],
   "source": [
    "# import necessary libraries and modules\n",
    "\n",
    "import pandas as pd\n",
    "import numpy as np\n",
    "import matplotlib.pyplot as plt\n",
    "import seaborn as sns\n",
    "import statsmodels as sm"
   ]
  },
  {
   "cell_type": "code",
   "execution_count": 3,
   "id": "2eeb9023-bf1a-495e-bc46-5da5f36a4a26",
   "metadata": {},
   "outputs": [],
   "source": [
    "def standard_units(any_numbers):\n",
    "    \"Convert any array of numbers to standard units.\"\n",
    "    return (any_numbers - np.mean(any_numbers))/np.std(any_numbers)  "
   ]
  },
  {
   "cell_type": "code",
   "execution_count": 4,
   "id": "034a5a42-c703-437b-9c5b-485773de7ef7",
   "metadata": {},
   "outputs": [],
   "source": [
    "def correlation(t, x, y):\n",
    "    return np.mean(standard_units(t[x])*standard_units(t[y]))"
   ]
  },
  {
   "cell_type": "markdown",
   "id": "a75e9cd9-041b-4cd2-86af-f5379014f02d",
   "metadata": {
    "tags": []
   },
   "source": [
    "# Prediction\n",
    "\n",
    "Prediction is an important aspect of data science --- to find out what data can tell us about the future\n",
    "\n",
    "Examples of questions that can be answered through prediction:\n",
    "- What do data about climate and pollution say about temperatures a few decades from now? \n",
    "- Based on a person's internet profile, which websites are likely to interest them? \n",
    "- How can a patient's medical history be used to judge how well they will respond to a treatment?"
   ]
  },
  {
   "cell_type": "markdown",
   "id": "53314156-f42d-41ac-b98a-a6d9be79b4ea",
   "metadata": {},
   "source": [
    "# Regression\n",
    "\n",
    "One of the most commonly used ways of predicting the value of one variable based on the value of another"
   ]
  },
  {
   "cell_type": "markdown",
   "id": "d30d5690-235c-4c81-bfdc-2b1e8313dd4b",
   "metadata": {},
   "source": [
    "# Correlation\n",
    "\n",
    "A measure of linear association\n",
    "\n",
    "Can be used to decide how good one variable will be as a predictor of another"
   ]
  },
  {
   "cell_type": "markdown",
   "id": "d97164e6-06f4-4b16-981d-a7fcd9ac7343",
   "metadata": {},
   "source": [
    "# Example 1\n",
    "\n",
    "Let's look at a dataset consisting of family heights"
   ]
  },
  {
   "cell_type": "code",
   "execution_count": 5,
   "id": "ac17eaf6-997f-4b5a-a2b1-41c7e2ff5a77",
   "metadata": {},
   "outputs": [],
   "source": [
    "# load heights dataset into a dataframe and save in a variable\n",
    "\n",
    "heights = pd.read_csv(\"family_heights.csv\")"
   ]
  },
  {
   "cell_type": "code",
   "execution_count": 6,
   "id": "50dd8240-1a45-42b8-965a-509fb53525cd",
   "metadata": {},
   "outputs": [
    {
     "data": {
      "text/html": [
       "<div>\n",
       "<style scoped>\n",
       "    .dataframe tbody tr th:only-of-type {\n",
       "        vertical-align: middle;\n",
       "    }\n",
       "\n",
       "    .dataframe tbody tr th {\n",
       "        vertical-align: top;\n",
       "    }\n",
       "\n",
       "    .dataframe thead th {\n",
       "        text-align: right;\n",
       "    }\n",
       "</style>\n",
       "<table border=\"1\" class=\"dataframe\">\n",
       "  <thead>\n",
       "    <tr style=\"text-align: right;\">\n",
       "      <th></th>\n",
       "      <th>family</th>\n",
       "      <th>father</th>\n",
       "      <th>mother</th>\n",
       "      <th>midparentHeight</th>\n",
       "      <th>children</th>\n",
       "      <th>childNum</th>\n",
       "      <th>sex</th>\n",
       "      <th>childHeight</th>\n",
       "    </tr>\n",
       "  </thead>\n",
       "  <tbody>\n",
       "    <tr>\n",
       "      <th>0</th>\n",
       "      <td>1</td>\n",
       "      <td>78.5</td>\n",
       "      <td>67.0</td>\n",
       "      <td>75.43</td>\n",
       "      <td>4</td>\n",
       "      <td>1</td>\n",
       "      <td>male</td>\n",
       "      <td>73.2</td>\n",
       "    </tr>\n",
       "    <tr>\n",
       "      <th>1</th>\n",
       "      <td>1</td>\n",
       "      <td>78.5</td>\n",
       "      <td>67.0</td>\n",
       "      <td>75.43</td>\n",
       "      <td>4</td>\n",
       "      <td>2</td>\n",
       "      <td>female</td>\n",
       "      <td>69.2</td>\n",
       "    </tr>\n",
       "    <tr>\n",
       "      <th>2</th>\n",
       "      <td>1</td>\n",
       "      <td>78.5</td>\n",
       "      <td>67.0</td>\n",
       "      <td>75.43</td>\n",
       "      <td>4</td>\n",
       "      <td>3</td>\n",
       "      <td>female</td>\n",
       "      <td>69.0</td>\n",
       "    </tr>\n",
       "    <tr>\n",
       "      <th>3</th>\n",
       "      <td>1</td>\n",
       "      <td>78.5</td>\n",
       "      <td>67.0</td>\n",
       "      <td>75.43</td>\n",
       "      <td>4</td>\n",
       "      <td>4</td>\n",
       "      <td>female</td>\n",
       "      <td>69.0</td>\n",
       "    </tr>\n",
       "    <tr>\n",
       "      <th>4</th>\n",
       "      <td>2</td>\n",
       "      <td>75.5</td>\n",
       "      <td>66.5</td>\n",
       "      <td>73.66</td>\n",
       "      <td>4</td>\n",
       "      <td>1</td>\n",
       "      <td>male</td>\n",
       "      <td>73.5</td>\n",
       "    </tr>\n",
       "  </tbody>\n",
       "</table>\n",
       "</div>"
      ],
      "text/plain": [
       "  family  father  mother  midparentHeight  children  childNum     sex  \\\n",
       "0      1    78.5    67.0            75.43         4         1    male   \n",
       "1      1    78.5    67.0            75.43         4         2  female   \n",
       "2      1    78.5    67.0            75.43         4         3  female   \n",
       "3      1    78.5    67.0            75.43         4         4  female   \n",
       "4      2    75.5    66.5            73.66         4         1    male   \n",
       "\n",
       "   childHeight  \n",
       "0         73.2  \n",
       "1         69.2  \n",
       "2         69.0  \n",
       "3         69.0  \n",
       "4         73.5  "
      ]
     },
     "execution_count": 6,
     "metadata": {},
     "output_type": "execute_result"
    }
   ],
   "source": [
    "# display first few rows of heights data\n",
    "\n",
    "heights.head()"
   ]
  },
  {
   "cell_type": "markdown",
   "id": "10578a95-4370-44d4-bb90-9d196626e215",
   "metadata": {},
   "source": [
    "Note: the midparent height is an average of the heights of the two parents"
   ]
  },
  {
   "cell_type": "code",
   "execution_count": 7,
   "id": "5e10a970-717e-4669-b23c-e4875b4bd59b",
   "metadata": {},
   "outputs": [
    {
     "name": "stdout",
     "output_type": "stream",
     "text": [
      "<class 'pandas.core.frame.DataFrame'>\n",
      "RangeIndex: 934 entries, 0 to 933\n",
      "Data columns (total 8 columns):\n",
      " #   Column           Non-Null Count  Dtype  \n",
      "---  ------           --------------  -----  \n",
      " 0   family           934 non-null    object \n",
      " 1   father           934 non-null    float64\n",
      " 2   mother           934 non-null    float64\n",
      " 3   midparentHeight  934 non-null    float64\n",
      " 4   children         934 non-null    int64  \n",
      " 5   childNum         934 non-null    int64  \n",
      " 6   sex              934 non-null    object \n",
      " 7   childHeight      934 non-null    float64\n",
      "dtypes: float64(4), int64(2), object(2)\n",
      "memory usage: 58.5+ KB\n"
     ]
    }
   ],
   "source": [
    "# display basic info of heights data\n",
    "\n",
    "heights.info()"
   ]
  },
  {
   "cell_type": "code",
   "execution_count": 10,
   "id": "26fe2cf8-f872-451e-b68c-f6b506f7791c",
   "metadata": {},
   "outputs": [
    {
     "data": {
      "image/png": "[encoded data removed]",
      "text/plain": [
       "<Figure size 432x288 with 1 Axes>"
      ]
     },
     "metadata": {
      "needs_background": "light"
     },
     "output_type": "display_data"
    }
   ],
   "source": [
    "sns.scatterplot(data=heights, x='midparentHeight', y='childHeight')\n",
    "plt.show()"
   ]
  },
  {
   "cell_type": "code",
   "execution_count": 11,
   "id": "3cb85b9c-5e30-401d-a345-03a645903dd2",
   "metadata": {},
   "outputs": [
    {
     "data": {
      "text/plain": [
       "0.32094989606395924"
      ]
     },
     "execution_count": 11,
     "metadata": {},
     "output_type": "execute_result"
    }
   ],
   "source": [
    "r = correlation(heights, 'midparentHeight', 'childHeight')\n",
    "r"
   ]
  },
  {
   "cell_type": "markdown",
   "id": "b87d211e-ea63-447c-b66f-c4c4e89676f5",
   "metadata": {},
   "source": [
    "The correlation between midparent height and child's height is about 0.32."
   ]
  },
  {
   "cell_type": "markdown",
   "id": "87306ca9-4322-48bc-a6b8-0d0780d18d24",
   "metadata": {
    "tags": []
   },
   "source": [
    "## Correlation Coefficient\n",
    "\n",
    "The correlation coefficient doesn’t just measure how clustered the points in a scatter plot are about a straight line. It also helps identify the straight line about which the points are clustered."
   ]
  },
  {
   "cell_type": "markdown",
   "id": "f8f79fc1-1012-426e-8096-1ffd4fe82457",
   "metadata": {},
   "source": [
    "## The Equation of the Regression Line\n",
    "In regression, we use the value of one variable (which we will call $x$) to predict the value of another (which we will call $y$). When the variables $x$ and $y$ are measured in standard units, the regression line for predicting $y$ based on $x$ has slope $r$ and passes through the origin. Thus the equation of the regression line can be written as:\n",
    "\n",
    "$$\n",
    "\\mbox{estimate of }y ~=~ r \\cdot x ~~~\n",
    "\\mbox{when both variables are measured in standard units}\n",
    "$$\n",
    "\n",
    "In the original units of the data, this becomes\n",
    "\n",
    "$$\n",
    "\\frac{\\mbox{estimate of}~y ~-~\\mbox{average of}~y}{\\mbox{SD of}~y}\n",
    "~=~ r \\times \n",
    "\\frac{\\mbox{the given}~x ~-~\\mbox{average of}~x}{\\mbox{SD of}~x}\n",
    "$$\n",
    "\n",
    "![regline](regline.png)\n",
    "\n",
    "The slope and intercept of the regression line in original units can be derived from the diagram above. \n",
    "\n",
    "$$\n",
    "\\mathbf{\\mbox{slope of the regression line}} ~=~ r \\cdot\n",
    "\\frac{\\mbox{SD of }y}{\\mbox{SD of }x}\n",
    "$$\n",
    "\n",
    "$$\n",
    "\\mathbf{\\mbox{intercept of the regression line}} ~=~\n",
    "\\mbox{average of }y ~-~ \\mbox{slope} \\cdot \\mbox{average of }x\n",
    "$$"
   ]
  },
  {
   "cell_type": "markdown",
   "id": "95eab16a-f384-4605-b3be-77086f616f26",
   "metadata": {},
   "source": [
    "The functions below compute the slope and intercept. All of them take three arguments: the name of the DataFrame, the label of the column containing $x$, and the label of the column containing $y$."
   ]
  },
  {
   "cell_type": "code",
   "execution_count": 12,
   "id": "f16b3e6a-5bf6-4b6d-8f82-150f9ca85935",
   "metadata": {},
   "outputs": [],
   "source": [
    "def slope(t, label_x, label_y):\n",
    "    r = correlation(t, label_x, label_y)\n",
    "    return r*np.std(t[label_y])/np.std(t[label_x])\n",
    "\n",
    "def intercept(t, label_x, label_y):\n",
    "    return np.mean(t[label_y]) - slope(t, label_x, label_y)*np.mean(t[label_x])"
   ]
  },
  {
   "cell_type": "markdown",
   "id": "08b0b8f7-61ad-4e3b-baba-ec86b06b70e4",
   "metadata": {},
   "source": [
    "## The Regression Line in the Units of the Data\n",
    "\n",
    "We can find the equation of the regression line for predicting the child's height based on midparent height."
   ]
  },
  {
   "cell_type": "code",
   "execution_count": 13,
   "id": "4d4875c1-cdff-4203-a7ac-1709f53e7520",
   "metadata": {},
   "outputs": [
    {
     "data": {
      "text/plain": [
       "(0.637360896969479, 22.63624054958975)"
      ]
     },
     "execution_count": 13,
     "metadata": {},
     "output_type": "execute_result"
    }
   ],
   "source": [
    "family_slope = slope(heights, 'midparentHeight', 'childHeight')\n",
    "family_intercept = intercept(heights, 'midparentHeight', 'childHeight')\n",
    "family_slope, family_intercept"
   ]
  },
  {
   "cell_type": "markdown",
   "id": "47e7ff30-844c-48bd-8bd6-aeee6c666f6b",
   "metadata": {},
   "source": [
    "The equation of the regression line is\n",
    "\n",
    "$$\n",
    "\\mbox{estimate of child's height} ~=~ 0.64 \\cdot \\mbox{midparent height} ~+~ 22.64\n",
    "$$\n",
    "\n",
    "This is also known as the *regression equation.* The principal use of the regression equation is to predict $y$ based on $x$.\n",
    "\n",
    "For example, for a midparent height of 70.48 inches, the regression equation predicts the child's height to be about 67.56 inches."
   ]
  },
  {
   "cell_type": "code",
   "execution_count": 14,
   "id": "148309e7-34e2-4a82-be7f-a5e8ca2a4dda",
   "metadata": {},
   "outputs": [
    {
     "data": {
      "text/plain": [
       "67.55743656799862"
      ]
     },
     "execution_count": 14,
     "metadata": {},
     "output_type": "execute_result"
    }
   ],
   "source": [
    "family_slope * 70.48 + family_intercept"
   ]
  },
  {
   "cell_type": "code",
   "execution_count": 15,
   "id": "38ae8270-c921-484d-bc13-619efcc7085e",
   "metadata": {},
   "outputs": [
    {
     "data": {
      "text/html": [
       "<div>\n",
       "<style scoped>\n",
       "    .dataframe tbody tr th:only-of-type {\n",
       "        vertical-align: middle;\n",
       "    }\n",
       "\n",
       "    .dataframe tbody tr th {\n",
       "        vertical-align: top;\n",
       "    }\n",
       "\n",
       "    .dataframe thead th {\n",
       "        text-align: right;\n",
       "    }\n",
       "</style>\n",
       "<table border=\"1\" class=\"dataframe\">\n",
       "  <thead>\n",
       "    <tr style=\"text-align: right;\">\n",
       "      <th></th>\n",
       "      <th>family</th>\n",
       "      <th>father</th>\n",
       "      <th>mother</th>\n",
       "      <th>midparentHeight</th>\n",
       "      <th>children</th>\n",
       "      <th>childNum</th>\n",
       "      <th>sex</th>\n",
       "      <th>childHeight</th>\n",
       "      <th>Regression Prediction</th>\n",
       "    </tr>\n",
       "  </thead>\n",
       "  <tbody>\n",
       "    <tr>\n",
       "      <th>0</th>\n",
       "      <td>1</td>\n",
       "      <td>78.5</td>\n",
       "      <td>67.0</td>\n",
       "      <td>75.43</td>\n",
       "      <td>4</td>\n",
       "      <td>1</td>\n",
       "      <td>male</td>\n",
       "      <td>73.2</td>\n",
       "      <td>70.712373</td>\n",
       "    </tr>\n",
       "    <tr>\n",
       "      <th>1</th>\n",
       "      <td>1</td>\n",
       "      <td>78.5</td>\n",
       "      <td>67.0</td>\n",
       "      <td>75.43</td>\n",
       "      <td>4</td>\n",
       "      <td>2</td>\n",
       "      <td>female</td>\n",
       "      <td>69.2</td>\n",
       "      <td>70.712373</td>\n",
       "    </tr>\n",
       "    <tr>\n",
       "      <th>2</th>\n",
       "      <td>1</td>\n",
       "      <td>78.5</td>\n",
       "      <td>67.0</td>\n",
       "      <td>75.43</td>\n",
       "      <td>4</td>\n",
       "      <td>3</td>\n",
       "      <td>female</td>\n",
       "      <td>69.0</td>\n",
       "      <td>70.712373</td>\n",
       "    </tr>\n",
       "    <tr>\n",
       "      <th>3</th>\n",
       "      <td>1</td>\n",
       "      <td>78.5</td>\n",
       "      <td>67.0</td>\n",
       "      <td>75.43</td>\n",
       "      <td>4</td>\n",
       "      <td>4</td>\n",
       "      <td>female</td>\n",
       "      <td>69.0</td>\n",
       "      <td>70.712373</td>\n",
       "    </tr>\n",
       "    <tr>\n",
       "      <th>4</th>\n",
       "      <td>2</td>\n",
       "      <td>75.5</td>\n",
       "      <td>66.5</td>\n",
       "      <td>73.66</td>\n",
       "      <td>4</td>\n",
       "      <td>1</td>\n",
       "      <td>male</td>\n",
       "      <td>73.5</td>\n",
       "      <td>69.584244</td>\n",
       "    </tr>\n",
       "    <tr>\n",
       "      <th>...</th>\n",
       "      <td>...</td>\n",
       "      <td>...</td>\n",
       "      <td>...</td>\n",
       "      <td>...</td>\n",
       "      <td>...</td>\n",
       "      <td>...</td>\n",
       "      <td>...</td>\n",
       "      <td>...</td>\n",
       "      <td>...</td>\n",
       "    </tr>\n",
       "    <tr>\n",
       "      <th>929</th>\n",
       "      <td>203</td>\n",
       "      <td>62.0</td>\n",
       "      <td>66.0</td>\n",
       "      <td>66.64</td>\n",
       "      <td>3</td>\n",
       "      <td>1</td>\n",
       "      <td>male</td>\n",
       "      <td>64.0</td>\n",
       "      <td>65.109971</td>\n",
       "    </tr>\n",
       "    <tr>\n",
       "      <th>930</th>\n",
       "      <td>203</td>\n",
       "      <td>62.0</td>\n",
       "      <td>66.0</td>\n",
       "      <td>66.64</td>\n",
       "      <td>3</td>\n",
       "      <td>2</td>\n",
       "      <td>female</td>\n",
       "      <td>62.0</td>\n",
       "      <td>65.109971</td>\n",
       "    </tr>\n",
       "    <tr>\n",
       "      <th>931</th>\n",
       "      <td>203</td>\n",
       "      <td>62.0</td>\n",
       "      <td>66.0</td>\n",
       "      <td>66.64</td>\n",
       "      <td>3</td>\n",
       "      <td>3</td>\n",
       "      <td>female</td>\n",
       "      <td>61.0</td>\n",
       "      <td>65.109971</td>\n",
       "    </tr>\n",
       "    <tr>\n",
       "      <th>932</th>\n",
       "      <td>204</td>\n",
       "      <td>62.5</td>\n",
       "      <td>63.0</td>\n",
       "      <td>65.27</td>\n",
       "      <td>2</td>\n",
       "      <td>1</td>\n",
       "      <td>male</td>\n",
       "      <td>66.5</td>\n",
       "      <td>64.236786</td>\n",
       "    </tr>\n",
       "    <tr>\n",
       "      <th>933</th>\n",
       "      <td>204</td>\n",
       "      <td>62.5</td>\n",
       "      <td>63.0</td>\n",
       "      <td>65.27</td>\n",
       "      <td>2</td>\n",
       "      <td>2</td>\n",
       "      <td>female</td>\n",
       "      <td>57.0</td>\n",
       "      <td>64.236786</td>\n",
       "    </tr>\n",
       "  </tbody>\n",
       "</table>\n",
       "<p>934 rows × 9 columns</p>\n",
       "</div>"
      ],
      "text/plain": [
       "    family  father  mother  midparentHeight  children  childNum     sex  \\\n",
       "0        1    78.5    67.0            75.43         4         1    male   \n",
       "1        1    78.5    67.0            75.43         4         2  female   \n",
       "2        1    78.5    67.0            75.43         4         3  female   \n",
       "3        1    78.5    67.0            75.43         4         4  female   \n",
       "4        2    75.5    66.5            73.66         4         1    male   \n",
       "..     ...     ...     ...              ...       ...       ...     ...   \n",
       "929    203    62.0    66.0            66.64         3         1    male   \n",
       "930    203    62.0    66.0            66.64         3         2  female   \n",
       "931    203    62.0    66.0            66.64         3         3  female   \n",
       "932    204    62.5    63.0            65.27         2         1    male   \n",
       "933    204    62.5    63.0            65.27         2         2  female   \n",
       "\n",
       "     childHeight  Regression Prediction  \n",
       "0           73.2              70.712373  \n",
       "1           69.2              70.712373  \n",
       "2           69.0              70.712373  \n",
       "3           69.0              70.712373  \n",
       "4           73.5              69.584244  \n",
       "..           ...                    ...  \n",
       "929         64.0              65.109971  \n",
       "930         62.0              65.109971  \n",
       "931         61.0              65.109971  \n",
       "932         66.5              64.236786  \n",
       "933         57.0              64.236786  \n",
       "\n",
       "[934 rows x 9 columns]"
      ]
     },
     "execution_count": 15,
     "metadata": {},
     "output_type": "execute_result"
    }
   ],
   "source": [
    "heights_with_predictions = heights.copy()\n",
    "heights_with_predictions[\"Regression Prediction\"] = family_slope * heights['midparentHeight'] + family_intercept\n",
    "heights_with_predictions"
   ]
  },
  {
   "cell_type": "code",
   "execution_count": 16,
   "id": "675b4acc-db2c-4745-bb8d-eb0feb8dea6e",
   "metadata": {},
   "outputs": [
    {
     "data": {
      "image/png": "[encoded data removed]",
      "text/plain": [
       "<Figure size 432x288 with 1 Axes>"
      ]
     },
     "metadata": {
      "needs_background": "light"
     },
     "output_type": "display_data"
    }
   ],
   "source": [
    "sns.scatterplot(data=heights_with_predictions, x='midparentHeight', y='childHeight', color='darkblue')\n",
    "sns.scatterplot(data=heights_with_predictions, x='midparentHeight', y='Regression Prediction', color='orange')\n",
    "plt.legend(['Child', 'Regression Prediction'])\n",
    "plt.show()"
   ]
  },
  {
   "cell_type": "markdown",
   "id": "a575b725-1a40-432f-89da-2c1405c2c651",
   "metadata": {},
   "source": [
    "## Fitted Values\n",
    "The predictions are known as the \"fitted values\". The calculation to arrive at the fitted values can be generalized through a function. Define a function named `fit()` takes the name of a DataFrame and the labels of $x$ and $y$, and returns an array of fitted values, one fitted value for each data point."
   ]
  },
  {
   "cell_type": "code",
   "execution_count": 17,
   "id": "210f74bd-cfbc-45de-b6b8-d632ac12e037",
   "metadata": {},
   "outputs": [],
   "source": [
    "def fit(df, x, y):\n",
    "    \"\"\"Return the height of the regression line at each x value.\"\"\"\n",
    "    a = slope(df, x, y)\n",
    "    b = intercept(df, x, y)\n",
    "    return a * df[x] + b"
   ]
  },
  {
   "cell_type": "code",
   "execution_count": 18,
   "id": "d9f44da3-2540-44bf-aa79-3374f28ea2cd",
   "metadata": {},
   "outputs": [
    {
     "data": {
      "image/png": "[encoded data removed]",
      "text/plain": [
       "<Figure size 432x288 with 1 Axes>"
      ]
     },
     "metadata": {
      "needs_background": "light"
     },
     "output_type": "display_data"
    }
   ],
   "source": [
    "sns.scatterplot(data=heights, x='midparentHeight', y='childHeight', color ='darkblue')\n",
    "sns.lineplot(x=heights['midparentHeight'], y=fit(heights, 'midparentHeight', 'childHeight'), color='orange')\n",
    "plt.legend(['Child', 'Fitted'])\n",
    "plt.show()"
   ]
  },
  {
   "cell_type": "markdown",
   "id": "3e9200dc-96ae-4867-a899-9055485a88d0",
   "metadata": {},
   "source": [
    "# Example 2"
   ]
  },
  {
   "cell_type": "code",
   "execution_count": 26,
   "id": "56f9c6e6-09c7-42d9-9729-8825e607d1f5",
   "metadata": {},
   "outputs": [],
   "source": [
    "maternal_data = pd.read_csv(\"maternal_data.csv\")"
   ]
  },
  {
   "cell_type": "code",
   "execution_count": 27,
   "id": "09a95407-4397-43fc-aacc-99378d4f148f",
   "metadata": {},
   "outputs": [
    {
     "data": {
      "text/html": [
       "<div>\n",
       "<style scoped>\n",
       "    .dataframe tbody tr th:only-of-type {\n",
       "        vertical-align: middle;\n",
       "    }\n",
       "\n",
       "    .dataframe tbody tr th {\n",
       "        vertical-align: top;\n",
       "    }\n",
       "\n",
       "    .dataframe thead th {\n",
       "        text-align: right;\n",
       "    }\n",
       "</style>\n",
       "<table border=\"1\" class=\"dataframe\">\n",
       "  <thead>\n",
       "    <tr style=\"text-align: right;\">\n",
       "      <th></th>\n",
       "      <th>Birth Weight</th>\n",
       "      <th>Gestational Days</th>\n",
       "      <th>Maternal Age</th>\n",
       "      <th>Maternal Height</th>\n",
       "      <th>Maternal Pregnancy Weight</th>\n",
       "      <th>Maternal Smoker</th>\n",
       "    </tr>\n",
       "  </thead>\n",
       "  <tbody>\n",
       "    <tr>\n",
       "      <th>0</th>\n",
       "      <td>120</td>\n",
       "      <td>284</td>\n",
       "      <td>27</td>\n",
       "      <td>62</td>\n",
       "      <td>100</td>\n",
       "      <td>False</td>\n",
       "    </tr>\n",
       "    <tr>\n",
       "      <th>1</th>\n",
       "      <td>113</td>\n",
       "      <td>282</td>\n",
       "      <td>33</td>\n",
       "      <td>64</td>\n",
       "      <td>135</td>\n",
       "      <td>False</td>\n",
       "    </tr>\n",
       "    <tr>\n",
       "      <th>2</th>\n",
       "      <td>128</td>\n",
       "      <td>279</td>\n",
       "      <td>28</td>\n",
       "      <td>64</td>\n",
       "      <td>115</td>\n",
       "      <td>True</td>\n",
       "    </tr>\n",
       "    <tr>\n",
       "      <th>3</th>\n",
       "      <td>108</td>\n",
       "      <td>282</td>\n",
       "      <td>23</td>\n",
       "      <td>67</td>\n",
       "      <td>125</td>\n",
       "      <td>True</td>\n",
       "    </tr>\n",
       "    <tr>\n",
       "      <th>4</th>\n",
       "      <td>136</td>\n",
       "      <td>286</td>\n",
       "      <td>25</td>\n",
       "      <td>62</td>\n",
       "      <td>93</td>\n",
       "      <td>False</td>\n",
       "    </tr>\n",
       "  </tbody>\n",
       "</table>\n",
       "</div>"
      ],
      "text/plain": [
       "   Birth Weight  Gestational Days  Maternal Age  Maternal Height  \\\n",
       "0           120               284            27               62   \n",
       "1           113               282            33               64   \n",
       "2           128               279            28               64   \n",
       "3           108               282            23               67   \n",
       "4           136               286            25               62   \n",
       "\n",
       "   Maternal Pregnancy Weight  Maternal Smoker  \n",
       "0                        100            False  \n",
       "1                        135            False  \n",
       "2                        115             True  \n",
       "3                        125             True  \n",
       "4                         93            False  "
      ]
     },
     "execution_count": 27,
     "metadata": {},
     "output_type": "execute_result"
    }
   ],
   "source": [
    "maternal_data.head()"
   ]
  },
  {
   "cell_type": "code",
   "execution_count": 28,
   "id": "0a62e3af-010b-4863-aeb3-d74ff3cc0575",
   "metadata": {},
   "outputs": [
    {
     "name": "stdout",
     "output_type": "stream",
     "text": [
      "<class 'pandas.core.frame.DataFrame'>\n",
      "RangeIndex: 1174 entries, 0 to 1173\n",
      "Data columns (total 6 columns):\n",
      " #   Column                     Non-Null Count  Dtype\n",
      "---  ------                     --------------  -----\n",
      " 0   Birth Weight               1174 non-null   int64\n",
      " 1   Gestational Days           1174 non-null   int64\n",
      " 2   Maternal Age               1174 non-null   int64\n",
      " 3   Maternal Height            1174 non-null   int64\n",
      " 4   Maternal Pregnancy Weight  1174 non-null   int64\n",
      " 5   Maternal Smoker            1174 non-null   bool \n",
      "dtypes: bool(1), int64(5)\n",
      "memory usage: 47.1 KB\n"
     ]
    }
   ],
   "source": [
    "maternal_data.info()"
   ]
  },
  {
   "cell_type": "code",
   "execution_count": 29,
   "id": "791ba957-2771-40f2-a70e-987e490abfc6",
   "metadata": {},
   "outputs": [
    {
     "data": {
      "image/png": "[encoded data removed]",
      "text/plain": [
       "<Figure size 432x288 with 1 Axes>"
      ]
     },
     "metadata": {
      "needs_background": "light"
     },
     "output_type": "display_data"
    }
   ],
   "source": [
    "sns.scatterplot(data = maternal_data, x = \"Maternal Height\", y = \"Maternal Pregnancy Weight\")\n",
    "plt.show()"
   ]
  },
  {
   "cell_type": "code",
   "execution_count": 31,
   "id": "b3521711-0b81-4698-994e-00bbe36b485e",
   "metadata": {},
   "outputs": [
    {
     "data": {
      "image/png": "[encoded data removed]",
      "text/plain": [
       "<Figure size 432x288 with 1 Axes>"
      ]
     },
     "metadata": {
      "needs_background": "light"
     },
     "output_type": "display_data"
    }
   ],
   "source": [
    "sns.scatterplot(data=maternal_data, x = \"Maternal Height\", y = \"Maternal Pregnancy Weight\", color='darkblue')\n",
    "sns.lineplot(x=maternal_data[\"Maternal Height\"], y=fit(maternal_data, x = \"Maternal Height\", y = \"Maternal Pregnancy Weight\"), color='orange')\n",
    "plt.legend(['Maternal', 'Fitted'])\n",
    "plt.show()"
   ]
  },
  {
   "cell_type": "code",
   "execution_count": 32,
   "id": "70d1b62a-96f8-4d59-9176-6dd0d702d087",
   "metadata": {},
   "outputs": [
    {
     "data": {
      "text/plain": [
       "3.572846259275056"
      ]
     },
     "execution_count": 32,
     "metadata": {},
     "output_type": "execute_result"
    }
   ],
   "source": [
    "maternal_slope = slope(maternal_data, \"Maternal Height\", \"Maternal Pregnancy Weight\")\n",
    "maternal_slope"
   ]
  },
  {
   "cell_type": "markdown",
   "id": "6807c43e-d035-418b-8c12-8abf4dbeeee5",
   "metadata": {},
   "source": [
    "The slope of the regression line is about **3.57 pounds per inch**. This means that for two women who are 1 inch apart in height, our prediction of pregnancy weight will differ by 3.57 pounds. For a woman who is 2 inches taller than another, our prediction of pregnancy weight will be\n",
    "\n",
    "$$\n",
    "2 \\times 3.57 ~=~ 7.14\n",
    "$$\n",
    "\n",
    "pounds more than our prediction for the shorter woman."
   ]
  },
  {
   "cell_type": "code",
   "execution_count": 33,
   "id": "483b40e8-038d-42f3-b528-0a606bc157a6",
   "metadata": {},
   "outputs": [
    {
     "data": {
      "text/plain": [
       "-100.35996730828666"
      ]
     },
     "execution_count": 33,
     "metadata": {},
     "output_type": "execute_result"
    }
   ],
   "source": [
    "maternal_intercept = intercept(maternal_data, \"Maternal Height\", \"Maternal Pregnancy Weight\")\n",
    "maternal_intercept"
   ]
  },
  {
   "cell_type": "code",
   "execution_count": 34,
   "id": "b4d195a6-e0b8-4555-b698-07a05c0785c9",
   "metadata": {},
   "outputs": [
    {
     "data": {
      "text/plain": [
       "131.87503954459197"
      ]
     },
     "execution_count": 34,
     "metadata": {},
     "output_type": "execute_result"
    }
   ],
   "source": [
    "# For example, maternal height is 65 inches. \n",
    "# What is the predicted value for maternal pregnancy weight for that individual?\n",
    "\n",
    "maternal_slope * 65 + maternal_intercept"
   ]
  },
  {
   "cell_type": "code",
   "execution_count": 35,
   "id": "a27d3470-28bc-4a1b-b4d8-63ff92f05c64",
   "metadata": {},
   "outputs": [
    {
     "data": {
      "text/html": [
       "<div>\n",
       "<style scoped>\n",
       "    .dataframe tbody tr th:only-of-type {\n",
       "        vertical-align: middle;\n",
       "    }\n",
       "\n",
       "    .dataframe tbody tr th {\n",
       "        vertical-align: top;\n",
       "    }\n",
       "\n",
       "    .dataframe thead th {\n",
       "        text-align: right;\n",
       "    }\n",
       "</style>\n",
       "<table border=\"1\" class=\"dataframe\">\n",
       "  <thead>\n",
       "    <tr style=\"text-align: right;\">\n",
       "      <th></th>\n",
       "      <th>Birth Weight</th>\n",
       "      <th>Gestational Days</th>\n",
       "      <th>Maternal Age</th>\n",
       "      <th>Maternal Height</th>\n",
       "      <th>Maternal Pregnancy Weight</th>\n",
       "      <th>Maternal Smoker</th>\n",
       "      <th>Fitted Value</th>\n",
       "    </tr>\n",
       "  </thead>\n",
       "  <tbody>\n",
       "    <tr>\n",
       "      <th>0</th>\n",
       "      <td>120</td>\n",
       "      <td>284</td>\n",
       "      <td>27</td>\n",
       "      <td>62</td>\n",
       "      <td>100</td>\n",
       "      <td>False</td>\n",
       "      <td>121.156501</td>\n",
       "    </tr>\n",
       "    <tr>\n",
       "      <th>1</th>\n",
       "      <td>113</td>\n",
       "      <td>282</td>\n",
       "      <td>33</td>\n",
       "      <td>64</td>\n",
       "      <td>135</td>\n",
       "      <td>False</td>\n",
       "      <td>128.302193</td>\n",
       "    </tr>\n",
       "    <tr>\n",
       "      <th>2</th>\n",
       "      <td>128</td>\n",
       "      <td>279</td>\n",
       "      <td>28</td>\n",
       "      <td>64</td>\n",
       "      <td>115</td>\n",
       "      <td>True</td>\n",
       "      <td>128.302193</td>\n",
       "    </tr>\n",
       "    <tr>\n",
       "      <th>3</th>\n",
       "      <td>108</td>\n",
       "      <td>282</td>\n",
       "      <td>23</td>\n",
       "      <td>67</td>\n",
       "      <td>125</td>\n",
       "      <td>True</td>\n",
       "      <td>139.020732</td>\n",
       "    </tr>\n",
       "    <tr>\n",
       "      <th>4</th>\n",
       "      <td>136</td>\n",
       "      <td>286</td>\n",
       "      <td>25</td>\n",
       "      <td>62</td>\n",
       "      <td>93</td>\n",
       "      <td>False</td>\n",
       "      <td>121.156501</td>\n",
       "    </tr>\n",
       "    <tr>\n",
       "      <th>...</th>\n",
       "      <td>...</td>\n",
       "      <td>...</td>\n",
       "      <td>...</td>\n",
       "      <td>...</td>\n",
       "      <td>...</td>\n",
       "      <td>...</td>\n",
       "      <td>...</td>\n",
       "    </tr>\n",
       "    <tr>\n",
       "      <th>1169</th>\n",
       "      <td>113</td>\n",
       "      <td>275</td>\n",
       "      <td>27</td>\n",
       "      <td>60</td>\n",
       "      <td>100</td>\n",
       "      <td>False</td>\n",
       "      <td>114.010808</td>\n",
       "    </tr>\n",
       "    <tr>\n",
       "      <th>1170</th>\n",
       "      <td>128</td>\n",
       "      <td>265</td>\n",
       "      <td>24</td>\n",
       "      <td>67</td>\n",
       "      <td>120</td>\n",
       "      <td>False</td>\n",
       "      <td>139.020732</td>\n",
       "    </tr>\n",
       "    <tr>\n",
       "      <th>1171</th>\n",
       "      <td>130</td>\n",
       "      <td>291</td>\n",
       "      <td>30</td>\n",
       "      <td>65</td>\n",
       "      <td>150</td>\n",
       "      <td>True</td>\n",
       "      <td>131.875040</td>\n",
       "    </tr>\n",
       "    <tr>\n",
       "      <th>1172</th>\n",
       "      <td>125</td>\n",
       "      <td>281</td>\n",
       "      <td>21</td>\n",
       "      <td>65</td>\n",
       "      <td>110</td>\n",
       "      <td>False</td>\n",
       "      <td>131.875040</td>\n",
       "    </tr>\n",
       "    <tr>\n",
       "      <th>1173</th>\n",
       "      <td>117</td>\n",
       "      <td>297</td>\n",
       "      <td>38</td>\n",
       "      <td>65</td>\n",
       "      <td>129</td>\n",
       "      <td>False</td>\n",
       "      <td>131.875040</td>\n",
       "    </tr>\n",
       "  </tbody>\n",
       "</table>\n",
       "<p>1174 rows × 7 columns</p>\n",
       "</div>"
      ],
      "text/plain": [
       "      Birth Weight  Gestational Days  Maternal Age  Maternal Height  \\\n",
       "0              120               284            27               62   \n",
       "1              113               282            33               64   \n",
       "2              128               279            28               64   \n",
       "3              108               282            23               67   \n",
       "4              136               286            25               62   \n",
       "...            ...               ...           ...              ...   \n",
       "1169           113               275            27               60   \n",
       "1170           128               265            24               67   \n",
       "1171           130               291            30               65   \n",
       "1172           125               281            21               65   \n",
       "1173           117               297            38               65   \n",
       "\n",
       "      Maternal Pregnancy Weight  Maternal Smoker  Fitted Value  \n",
       "0                           100            False    121.156501  \n",
       "1                           135            False    128.302193  \n",
       "2                           115             True    128.302193  \n",
       "3                           125             True    139.020732  \n",
       "4                            93            False    121.156501  \n",
       "...                         ...              ...           ...  \n",
       "1169                        100            False    114.010808  \n",
       "1170                        120            False    139.020732  \n",
       "1171                        150             True    131.875040  \n",
       "1172                        110            False    131.875040  \n",
       "1173                        129            False    131.875040  \n",
       "\n",
       "[1174 rows x 7 columns]"
      ]
     },
     "execution_count": 35,
     "metadata": {},
     "output_type": "execute_result"
    }
   ],
   "source": [
    "data_with_preds = maternal_data.copy()\n",
    "data_with_preds[\"Fitted Value\"] = fit(maternal_data, x = \"Maternal Height\", y = \"Maternal Pregnancy Weight\")\n",
    "data_with_preds"
   ]
  },
  {
   "cell_type": "code",
   "execution_count": null,
   "id": "1004e432-98cb-4385-b24c-70f916ee70f8",
   "metadata": {},
   "outputs": [],
   "source": []
  }
 ],
 "metadata": {
  "kernelspec": {
   "display_name": "Python 3.10.1 64-bit",
   "language": "python",
   "name": "python3"
  },
  "language_info": {
   "codemirror_mode": {
    "name": "ipython",
    "version": 3
   },
   "file_extension": ".py",
   "mimetype": "text/x-python",
   "name": "python",
   "nbconvert_exporter": "python",
   "pygments_lexer": "ipython3",
   "version": "3.10.1"
  },
  "vscode": {
   "interpreter": {
    "hash": "a9cff5a362bc38ef45d817ae74b1af54d6a076e3d773891282bce078b815ba34"
   }
  }
 },
 "nbformat": 4,
 "nbformat_minor": 5
}
